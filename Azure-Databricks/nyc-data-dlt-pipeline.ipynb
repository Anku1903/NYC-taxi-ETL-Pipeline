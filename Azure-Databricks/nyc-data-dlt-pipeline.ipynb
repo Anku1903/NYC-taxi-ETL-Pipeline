{
 "cells": [
  {
   "cell_type": "markdown",
   "id": "570702d0",
   "metadata": {},
   "source": [
    "# NYC Taxi data DLT Pipeline"
   ]
  },
  {
   "cell_type": "code",
   "execution_count": null,
   "id": "32fa75ed",
   "metadata": {},
   "outputs": [],
   "source": [
    "import dlt\n",
    "from pyspark.sql.functions import *\n",
    "from pyspark.sql.window import Window\n"
   ]
  },
  {
   "cell_type": "markdown",
   "id": "2bd43d33",
   "metadata": {},
   "source": [
    "## Bronze Layer"
   ]
  },
  {
   "cell_type": "code",
   "execution_count": null,
   "id": "58555cb1",
   "metadata": {},
   "outputs": [],
   "source": [
    "# Bronze table: Raw NYC taxi data ingestion\n",
    "@dlt.table(\n",
    "  comment=\"Raw NYC taxi data\",\n",
    "  table_properties={\"quality\": \"bronze\"}\n",
    ")\n",
    "def bronze_nyc_taxi():\n",
    "  return (\n",
    "    spark.readStream.format(\"cloudFiles\")\n",
    "    .option(\"cloudFiles.format\", \"csv\")\n",
    "    .option(\"header\", \"true\")\n",
    "    .load(\"abfss://nyctaxi@ankurdataenggstorage.dfs.core.windows.net/nyc_taxi_data/\")\n",
    "  )\n"
   ]
  },
  {
   "cell_type": "markdown",
   "id": "1536e6be",
   "metadata": {},
   "source": [
    "## Silver Layer"
   ]
  },
  {
   "cell_type": "code",
   "execution_count": null,
   "id": "cef34959",
   "metadata": {},
   "outputs": [],
   "source": [
    "# Silver table: Cleaned and transformed NYC taxi data\n",
    "@dlt.table(\n",
    "  comment=\"Cleaned NYC taxi data\",\n",
    "  table_properties={\"quality\": \"silver\"}\n",
    ")\n",
    "def silver_nyc_taxi():\n",
    "  bronze_df = dlt.read_stream(\"bronze_nyc_taxi\")\n",
    "  silver_df = bronze_df \\\n",
    "    .withColumn(\"tpep_pickup_datetime\", to_timestamp(\"tpep_pickup_datetime\")) \\\n",
    "    .withColumn(\"tpep_dropoff_datetime\", to_timestamp(\"tpep_dropoff_datetime\")) \\\n",
    "    .withColumn(\"passenger_count\", col(\"passenger_count\").cast(\"integer\")) \\\n",
    "    .withColumn(\"trip_distance\", col(\"trip_distance\").cast(\"double\")) \\\n",
    "    .withColumn(\"pickup_longitude\", col(\"pickup_longitude\").cast(\"double\")) \\\n",
    "    .withColumn(\"pickup_latitude\", col(\"pickup_latitude\").cast(\"double\")) \\\n",
    "    .withColumn(\"dropoff_longitude\", col(\"dropoff_longitude\").cast(\"double\")) \\\n",
    "    .withColumn(\"dropoff_latitude\", col(\"dropoff_latitude\").cast(\"double\")) \\\n",
    "    .withColumn(\"fare_amount\", col(\"fare_amount\").cast(\"double\")) \\\n",
    "    .withColumn(\"total_amount\", col(\"total_amount\").cast(\"double\")) \\\n",
    "    .withColumn(\"pickup_date\", to_date(\"tpep_pickup_datetime\")) \\\n",
    "    .withColumn(\"pickup_hour\", hour(\"tpep_pickup_datetime\")) \\\n",
    "    .filter(col(\"tpep_pickup_datetime\").isNotNull() & col(\"tpep_dropoff_datetime\").isNotNull())\n",
    "  return silver_df\n"
   ]
  },
  {
   "cell_type": "markdown",
   "id": "0045d35c",
   "metadata": {},
   "source": [
    "## Gold Layer"
   ]
  },
  {
   "cell_type": "markdown",
   "id": "9157e310",
   "metadata": {},
   "source": [
    "# Gold dimension table: Date dimension\n",
    "@dlt.table(\n",
    "  comment=\"Date dimension\",\n",
    "  table_properties={\"quality\": \"gold\"}\n",
    ")\n",
    "def dim_date():\n",
    "  start_date = \"2015-01-01\"\n",
    "  end_date = \"2015-12-31\"\n",
    "  dates = spark.range(0, (to_date(lit(end_date)) - to_date(lit(start_date))).days + 1).withColumn(\"date\", expr(f\"date_add('{start_date}', id)\"))\n",
    "  dim_date_df = dates \\\n",
    "    .withColumn(\"date_key\", date_format(\"date\", \"yyyyMMdd\").cast(\"int\")) \\\n",
    "    .withColumn(\"year\", year(\"date\")) \\\n",
    "    .withColumn(\"month\", month(\"date\")) \\\n",
    "    .withColumn(\"day\", dayofmonth(\"date\")) \\\n",
    "    .withColumn(\"day_of_week\", dayofweek(\"date\"))\n",
    "  return dim_date_df"
   ]
  },
  {
   "cell_type": "code",
   "execution_count": null,
   "id": "e22ce2bd",
   "metadata": {},
   "outputs": [],
   "source": [
    "# Gold dimension table: Payment type dimension\n",
    "@dlt.table(\n",
    "  comment=\"Payment type dimension\",\n",
    "  table_properties={\"quality\": \"gold\"}\n",
    ")\n",
    "def dim_paymenttype():\n",
    "  silver_df = spark.read.format(\"delta\").table(\"live.silver_nyc_taxi\")\n",
    "  dim_paymenttype_df = silver_df.select(\"payment_type\").distinct() \\\n",
    "    .withColumn(\"paymenttype_description\", lit(\"Unknown\")) \\\n",
    "    .withColumn(\"paymenttype_key\", row_number().over(Window.orderBy(\"payment_type\")))\n",
    "  return dim_paymenttype_df\n"
   ]
  },
  {
   "cell_type": "code",
   "execution_count": null,
   "id": "ce80c1ae",
   "metadata": {},
   "outputs": [],
   "source": [
    "# Gold dimension table: Ratecode dimension\n",
    "@dlt.table(\n",
    "  comment=\"Ratecode dimension\",\n",
    "  table_properties={\"quality\": \"gold\"}\n",
    ")\n",
    "def dim_ratecode():\n",
    "  silver_df = spark.read.format(\"delta\").table(\"live.silver_nyc_taxi\")\n",
    "  dim_ratecode_df = silver_df.select(\"RateCodeID\").distinct() \\\n",
    "    .withColumn(\"ratecode_description\", lit(\"Unknown\")) \\\n",
    "    .withColumn(\"ratecode_key\", row_number().over(Window.orderBy(\"RateCodeID\")))\n",
    "  return dim_ratecode_df\n"
   ]
  },
  {
   "cell_type": "code",
   "execution_count": null,
   "id": "38d6796a",
   "metadata": {},
   "outputs": [],
   "source": [
    "# Gold dimension table: Vendor dimension\n",
    "@dlt.table(\n",
    "  comment=\"Vendor dimension\",\n",
    "  table_properties={\"quality\": \"gold\"}\n",
    ")\n",
    "def dim_vendor():\n",
    "  silver_df = spark.read.format(\"delta\").table(\"live.silver_nyc_taxi\")\n",
    "  dim_vendor_df = silver_df.select(\"VendorID\").distinct() \\\n",
    "    .withColumn(\"vendor_name\", concat(lit(\"Vendor \"), col(\"VendorID\"))) \\\n",
    "    .withColumn(\"vendor_key\", row_number().over(Window.orderBy(\"VendorID\")))\n",
    "  return dim_vendor_df\n"
   ]
  },
  {
   "cell_type": "code",
   "execution_count": null,
   "id": "6794ef84",
   "metadata": {},
   "outputs": [],
   "source": [
    "# Gold fact table: Trip fact table\n",
    "@dlt.table(\n",
    "  comment=\"Trip fact table\",\n",
    "  table_properties={\"quality\": \"gold\"}\n",
    ")\n",
    "def fact_trip():\n",
    "  silver_df = dlt.read_stream(\"silver_nyc_taxi\")\n",
    "  dim_vendor_df = dlt.read(\"dim_vendor\")\n",
    "  dim_ratecode_df = dlt.read(\"dim_ratecode\")\n",
    "  dim_paymenttype_df = dlt.read(\"dim_paymenttype\")\n",
    "  \n",
    "  fact_df = silver_df \\\n",
    "    .withColumn(\"date_key\", date_format(\"tpep_pickup_datetime\", \"yyyyMMdd\").cast(\"int\")) \\\n",
    "    .join(broadcast(dim_vendor_df), silver_df[\"VendorID\"] == dim_vendor_df[\"VendorID\"], \"left\") \\\n",
    "    .join(broadcast(dim_ratecode_df), silver_df[\"RateCodeID\"] == dim_ratecode_df[\"RateCodeID\"], \"left\") \\\n",
    "    .join(broadcast(dim_paymenttype_df), silver_df[\"payment_type\"] == dim_paymenttype_df[\"payment_type\"], \"left\") \\\n",
    "    .select(\n",
    "      dim_vendor_df[\"vendor_key\"].alias(\"vendor_key\"),\n",
    "      \"date_key\",\n",
    "      dim_ratecode_df[\"ratecode_key\"].alias(\"ratecode_key\"),\n",
    "      dim_paymenttype_df[\"paymenttype_key\"].alias(\"paymenttype_key\"),\n",
    "      \"tpep_pickup_datetime\",\n",
    "      \"tpep_dropoff_datetime\",\n",
    "      \"passenger_count\",\n",
    "      \"trip_distance\",\n",
    "      \"fare_amount\",\n",
    "      \"total_amount\",\n",
    "      \"pickup_longitude\",\n",
    "      \"pickup_latitude\",\n",
    "      \"dropoff_longitude\",\n",
    "      \"dropoff_latitude\"\n",
    "    )\n",
    "  return fact_df"
   ]
  }
 ],
 "metadata": {
  "language_info": {
   "name": "python"
  }
 },
 "nbformat": 4,
 "nbformat_minor": 5
}
